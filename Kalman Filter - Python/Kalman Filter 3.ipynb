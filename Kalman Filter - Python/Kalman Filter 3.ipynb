{
 "cells": [
  {
   "cell_type": "markdown",
   "metadata": {},
   "source": [
    "Adapted from: https://scipy-cookbook.readthedocs.io/items/KalmanFiltering.html\n",
    "Based on formula from: https://www.cs.unc.edu/~welch/media/pdf/kalman_intro.pdf"
   ]
  },
  {
   "cell_type": "code",
   "execution_count": null,
   "metadata": {},
   "outputs": [],
   "source": [
    "# Kalman filter example demo in Python\n",
    "\n",
    "# A Python implementation of the example given in pages 11-15 of \"An\n",
    "# Introduction to the Kalman Filter\" by Greg Welch and Gary Bishop,\n",
    "# University of North Carolina at Chapel Hill, Department of Computer\n",
    "# Science, TR 95-041,\n",
    "# https://www.cs.unc.edu/~welch/media/pdf/kalman_intro.pdf\n",
    "\n",
    "# by Andrew D. Straw\n",
    "\n",
    "import numpy as np\n",
    "import matplotlib.pyplot as plt\n",
    "\n",
    "plt.rcParams['figure.figsize'] = (10, 8)\n",
    "\n",
    "# intial parameters\n",
    "n_iter = 50\n",
    "sz = (n_iter,) # size of array\n",
    "x = -0.37727 # truth value (typo in example at top of p. 13 calls this z)\n",
    "z = np.random.normal(x,0.1,size=sz) # observations (normal about x, sigma=0.1)\n",
    "\n",
    "Q = 1e-5 # process variance\n",
    "\n",
    "# allocate space for arrays\n",
    "xhat=np.zeros(sz)      # a posteri estimate of x\n",
    "P=np.zeros(sz)         # a posteri error estimate\n",
    "xhatminus=np.zeros(sz) # a priori estimate of x\n",
    "Pminus=np.zeros(sz)    # a priori error estimate\n",
    "K=np.zeros(sz)         # gain or blending factor\n",
    "\n",
    "R = 0.1**2 # estimate of measurement variance, change to see effect\n",
    "\n",
    "# intial guesses\n",
    "xhat[0] = 0.0\n",
    "P[0] = 1.0\n",
    "\n",
    "for k in range(1,n_iter):\n",
    "    # time update\n",
    "    xhatminus[k] = xhat[k-1]\n",
    "    Pminus[k] = P[k-1]+Q\n",
    "\n",
    "    # measurement update\n",
    "    K[k] = Pminus[k]/( Pminus[k]+R )\n",
    "    xhat[k] = xhatminus[k]+K[k]*(z[k]-xhatminus[k])\n",
    "    P[k] = (1-K[k])*Pminus[k]\n",
    "\n",
    "plt.figure()\n",
    "plt.plot(z,'k+',label='noisy measurements')\n",
    "plt.plot(xhat,'b-',label='a posteri estimate')\n",
    "plt.axhline(x,color='g',label='truth value')\n",
    "plt.legend()\n",
    "plt.title('Estimate vs. iteration step', fontweight='bold')\n",
    "plt.xlabel('Iteration')\n",
    "plt.ylabel('Voltage')\n",
    "\n",
    "plt.figure()\n",
    "valid_iter = range(1,n_iter) # Pminus not valid at step 0\n",
    "plt.plot(valid_iter,Pminus[valid_iter],label='a priori error estimate')\n",
    "plt.title('Estimated $\\it{\\mathbf{a \\ priori}}$ error vs. iteration step', fontweight='bold')\n",
    "plt.xlabel('Iteration')\n",
    "plt.ylabel('$(Voltage)^2$')\n",
    "plt.setp(plt.gca(),'ylim',[0,.01])\n",
    "plt.show()"
   ]
  }
 ],
 "metadata": {
  "kernelspec": {
   "display_name": "Python 3",
   "language": "python",
   "name": "python3"
  },
  "language_info": {
   "codemirror_mode": {
    "name": "ipython",
    "version": 3
   },
   "file_extension": ".py",
   "mimetype": "text/x-python",
   "name": "python",
   "nbconvert_exporter": "python",
   "pygments_lexer": "ipython3",
   "version": "3.7.6"
  }
 },
 "nbformat": 4,
 "nbformat_minor": 2
}
