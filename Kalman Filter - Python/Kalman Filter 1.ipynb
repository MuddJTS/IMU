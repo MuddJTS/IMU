{
 "cells": [
  {
   "cell_type": "markdown",
   "metadata": {},
   "source": [
    "Adapted from: https://stackoverflow.com/questions/13901997/kalman-2d-filter-in-python"
   ]
  },
  {
   "cell_type": "code",
   "execution_count": 1,
   "metadata": {},
   "outputs": [],
   "source": [
    "import numpy as np\n",
    "import matplotlib.pyplot as plt"
   ]
  },
  {
   "cell_type": "code",
   "execution_count": 2,
   "metadata": {},
   "outputs": [],
   "source": [
    "def kalman_xy(x, P, measurement, R,\n",
    "              motion = np.matrix('0. 0. 0. 0.').T,\n",
    "              Q = np.matrix(np.eye(4))):\n",
    "    \"\"\"\n",
    "    Parameters:    \n",
    "    x: initial state 4-tuple of location and velocity: (x0, x1, x0_dot, x1_dot)\n",
    "    P: initial uncertainty convariance matrix\n",
    "    measurement: observed position\n",
    "    R: measurement noise \n",
    "    motion: external motion added to state vector x\n",
    "    Q: motion noise (same shape as P)\n",
    "    \"\"\"\n",
    "    return kalman(x, P, measurement, R, motion, Q,\n",
    "                  F = np.matrix('''\n",
    "                      1. 0. 1. 0.;\n",
    "                      0. 1. 0. 1.;\n",
    "                      0. 0. 1. 0.;\n",
    "                      0. 0. 0. 1.\n",
    "                      '''),\n",
    "                  H = np.matrix('''\n",
    "                      1. 0. 0. 0.;\n",
    "                      0. 1. 0. 0.'''))"
   ]
  },
  {
   "cell_type": "code",
   "execution_count": 3,
   "metadata": {},
   "outputs": [],
   "source": [
    "def kalman(x, P, measurement, R, motion, Q, F, H):\n",
    "    '''\n",
    "    Parameters:\n",
    "    x: initial state\n",
    "    P: initial uncertainty convariance matrix\n",
    "    measurement: observed position (same shape as H*x)\n",
    "    R: measurement noise (same shape as H)\n",
    "    motion: external motion added to state vector x\n",
    "    Q: motion noise (same shape as P)\n",
    "    F: next state function: x_prime = F*x\n",
    "    H: measurement function: position = H*x\n",
    "\n",
    "    Return: the updated and predicted new values for (x, P)\n",
    "\n",
    "    See also http://en.wikipedia.org/wiki/Kalman_filter\n",
    "\n",
    "    This version of kalman can be applied to many different situations by\n",
    "    appropriately defining F and H \n",
    "    '''\n",
    "    # UPDATE x, P based on measurement m    \n",
    "    # distance between measured and current position-belief\n",
    "    y = np.matrix(measurement).T - H * x\n",
    "    S = H * P * H.T + R  # residual convariance\n",
    "    K = P * H.T * S.I    # Kalman gain\n",
    "    x = x + K*y\n",
    "    I = np.matrix(np.eye(F.shape[0])) # identity matrix\n",
    "    P = (I - K*H)*P\n",
    "\n",
    "    # PREDICT x, P based on motion\n",
    "    x = F*x + motion\n",
    "    P = F*P*F.T + Q\n",
    "\n",
    "    return x, P"
   ]
  },
  {
   "cell_type": "code",
   "execution_count": 4,
   "metadata": {},
   "outputs": [],
   "source": [
    "def demo_kalman_xy():\n",
    "    x = np.matrix('0. 0. 0. 0.').T \n",
    "    P = np.matrix(np.eye(4))*1000 # initial uncertainty\n",
    "\n",
    "    N = 20\n",
    "    true_x = np.linspace(0.0, 10.0, N)\n",
    "    true_y = true_x**2\n",
    "    observed_x = true_x + 0.05*np.random.random(N)*true_x\n",
    "    observed_y = true_y + 0.05*np.random.random(N)*true_y\n",
    "    plt.plot(observed_x, observed_y, 'ro')\n",
    "    result = []\n",
    "    R = 0.01**2\n",
    "    for meas in zip(observed_x, observed_y):\n",
    "        x, P = kalman_xy(x, P, meas, R)\n",
    "        result.append((x[:2]).tolist())\n",
    "    kalman_x, kalman_y = zip(*result)\n",
    "    plt.plot(kalman_x, kalman_y, 'g-')\n",
    "    plt.show()"
   ]
  },
  {
   "cell_type": "code",
   "execution_count": 5,
   "metadata": {},
   "outputs": [
    {
     "data": {
      "image/png": "[encoded data removed]",
      "text/plain": [
       "<Figure size 432x288 with 1 Axes>"
      ]
     },
     "metadata": {
      "needs_background": "light"
     },
     "output_type": "display_data"
    }
   ],
   "source": [
    "demo_kalman_xy()"
   ]
  },
  {
   "cell_type": "code",
   "execution_count": null,
   "metadata": {},
   "outputs": [],
   "source": []
  }
 ],
 "metadata": {
  "kernelspec": {
   "display_name": "Python 3",
   "language": "python",
   "name": "python3"
  },
  "language_info": {
   "codemirror_mode": {
    "name": "ipython",
    "version": 3
   },
   "file_extension": ".py",
   "mimetype": "text/x-python",
   "name": "python",
   "nbconvert_exporter": "python",
   "pygments_lexer": "ipython3",
   "version": "3.7.6"
  }
 },
 "nbformat": 4,
 "nbformat_minor": 2
}
