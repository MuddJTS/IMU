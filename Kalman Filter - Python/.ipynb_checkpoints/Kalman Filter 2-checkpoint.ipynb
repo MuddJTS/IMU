{
 "cells": [
  {
   "cell_type": "markdown",
   "metadata": {},
   "source": [
    "Adapted from: http://ros-developer.com/2019/04/10/kalman-filter-explained-with-python-code-from-scratch/\n",
    "\n",
    "Notation from: https://www.bzarg.com/p/how-a-kalman-filter-works-in-pictures/"
   ]
  },
  {
   "cell_type": "code",
   "execution_count": null,
   "metadata": {},
   "outputs": [],
   "source": [
    "import numpy as np\n",
    "np.set_printoptions(threshold=3)\n",
    "np.set_printoptions(suppress=True)\n",
    "from numpy import genfromtxt"
   ]
  },
  {
   "cell_type": "code",
   "execution_count": null,
   "metadata": {},
   "outputs": [],
   "source": [
    "def prediction(X_hat_t_1,P_t_1,F_t,B_t,U_t,Q_t):\n",
    "    X_hat_t=F_t.dot(X_hat_t_1)+(B_t.dot(U_t).reshape(B_t.shape[0],-1) )\n",
    "    P_t=np.diag(np.diag(F_t.dot(P_t_1).dot(F_t.transpose())))+Q_t\n",
    "    return X_hat_t,P_t"
   ]
  },
  {
   "cell_type": "code",
   "execution_count": null,
   "metadata": {},
   "outputs": [],
   "source": [
    "def update(X_hat_t,P_t,Z_t,R_t,H_t):\n",
    "    \n",
    "    K_prime=P_t.dot(H_t.transpose()).dot( np.linalg.inv ( H_t.dot(P_t).dot(H_t.transpose()) +R_t ) )  \n",
    "    print(\"K:\\n\",K_prime)\n",
    "    \n",
    "    X_t=X_hat_t+K_prime.dot(Z_t-H_t.dot(X_hat_t))\n",
    "    P_t=P_t-K_prime.dot(H_t).dot(P_t)\n",
    "    \n",
    "    return X_t,P_t"
   ]
  },
  {
   "cell_type": "code",
   "execution_count": null,
   "metadata": {},
   "outputs": [],
   "source": [
    "acceleration=0\n",
    "delta_t=1/20#milisecond\n",
    " \n",
    "groundTruth = genfromtxt('data/groundTruth.csv', delimiter=',',skip_header=1)\n",
    " \n",
    "#Observations: position_X, position_Y\n",
    "measurmens = genfromtxt('data/measurmens.csv', delimiter=',',skip_header=1)\n",
    "\n",
    "#Checking our result with OpenCV\n",
    "opencvKalmanOutput = genfromtxt('data/kalmanv.csv', delimiter=',',skip_header=1)\n",
    " \n",
    "#Transition matrix\n",
    "F_t=np.array([ [1 ,0,delta_t,0] , [0,1,0,delta_t] , [0,0,1,0] , [0,0,0,1] ])\n",
    " \n",
    "#Initial State cov\n",
    "P_t= np.identity(4)*0.2\n",
    " \n",
    "#Process cov\n",
    "Q_t= np.identity(4)\n",
    " \n",
    "#Control matrix\n",
    "B_t=np.array( [ [0] , [0], [0] , [0] ])\n",
    " \n",
    "#Control vector\n",
    "U_t=acceleration\n",
    " \n",
    "#Measurment Matrix\n",
    "H_t = np.array([ [1, 0, 0, 0], [ 0, 1, 0, 0]])\n",
    " \n",
    "#Measurment cov\n",
    "R_t= np.identity(2)*5\n",
    " \n",
    "# Initial State\n",
    "X_hat_t = np.array( [[0],[0],[0],[0]] )\n",
    "print(\"X_hat_t\",X_hat_t.shape)\n",
    "print(\"P_t\",P_t.shape)\n",
    "print(\"F_t\",F_t.shape)\n",
    "print(\"B_t\",B_t.shape)\n",
    "print(\"Q_t\",Q_t.shape)\n",
    "print(\"R_t\",R_t.shape)\n",
    "print(\"H_t\",H_t.shape)"
   ]
  },
  {
   "cell_type": "code",
   "execution_count": null,
   "metadata": {},
   "outputs": [],
   "source": [
    "for i in range(measurmens.shape[0]):\n",
    "    X_hat_t,P_hat_t = prediction(X_hat_t,P_t,F_t,B_t,U_t,Q_t)\n",
    "    print(\"Prediction:\")\n",
    "    print(\"X_hat_t:\\n\",X_hat_t,\"\\nP_t:\\n\",P_t)\n",
    "    \n",
    "    Z_t=measurmens[i].transpose()\n",
    "    Z_t=Z_t.reshape(Z_t.shape[0],-1)\n",
    "    \n",
    "    print(Z_t.shape)\n",
    "    \n",
    "    X_t,P_t=update(X_hat_t,P_hat_t,Z_t,R_t,H_t)\n",
    "    print(\"Update:\")\n",
    "    print(\"X_t:\\n\",X_t,\"\\nP_t:\\n\",P_t)\n",
    "    X_hat_t=X_t\n",
    "    P_hat_t=P_t\n",
    "    \n",
    "    print(\"=========================================\")\n",
    "    print(\"Opencv Kalman Output:\")\n",
    "    print(\"X_t:\\n\",opencvKalmanOutput[i])"
   ]
  },
  {
   "cell_type": "code",
   "execution_count": null,
   "metadata": {},
   "outputs": [],
   "source": []
  }
 ],
 "metadata": {
  "kernelspec": {
   "display_name": "Python 3",
   "language": "python",
   "name": "python3"
  },
  "language_info": {
   "codemirror_mode": {
    "name": "ipython",
    "version": 3
   },
   "file_extension": ".py",
   "mimetype": "text/x-python",
   "name": "python",
   "nbconvert_exporter": "python",
   "pygments_lexer": "ipython3",
   "version": "3.7.6"
  }
 },
 "nbformat": 4,
 "nbformat_minor": 2
}
