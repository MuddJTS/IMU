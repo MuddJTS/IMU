{
 "cells": [
  {
   "cell_type": "code",
   "execution_count": 1,
   "metadata": {},
   "outputs": [],
   "source": [
    "import numpy as np\n",
    "from numpy.linalg import inv"
   ]
  },
  {
   "cell_type": "code",
   "execution_count": 2,
   "metadata": {},
   "outputs": [],
   "source": [
    "def updated_mean(mean1, var1, mean2, var2):\n",
    "    new_mean = (mean1 * var2 + mean2 * var1) / (var1 + var2)\n",
    "    return new_mean"
   ]
  },
  {
   "cell_type": "code",
   "execution_count": 3,
   "metadata": {},
   "outputs": [],
   "source": [
    "def updated_var(var1, var2):\n",
    "    new_var = 1 / ((1 / var1) + (1 / var2))\n",
    "    return new_var"
   ]
  },
  {
   "cell_type": "code",
   "execution_count": 4,
   "metadata": {},
   "outputs": [],
   "source": [
    "def predict(mean1, var1, mean2, var2):\n",
    "    new_mean = mean1 + mean2\n",
    "    new_var = var1 + var2\n",
    "    return [new_mean, new_var]"
   ]
  },
  {
   "cell_type": "code",
   "execution_count": 5,
   "metadata": {},
   "outputs": [],
   "source": [
    "A = np.array([[90, 80, 40],\n",
    "              [90, 60, 80],\n",
    "              [60, 50, 70],\n",
    "              [30, 40, 70],\n",
    "              [30, 20, 90]])\n",
    "\n",
    "ones = np.ones([5, 5])\n",
    "deviation = A - (ones.dot(A) / len(A))\n",
    "covariance = deviation.T.dot(deviation)"
   ]
  },
  {
   "cell_type": "code",
   "execution_count": 6,
   "metadata": {},
   "outputs": [],
   "source": [
    "# Initial Values\n",
    "x = 50\n",
    "x_dot = 5\n",
    "\n",
    "# Standard Deviations\n",
    "x_std = 0.5\n",
    "x_dot_std = 0.2\n",
    "\n",
    "# Variance\n",
    "x_var = x_std ** 2\n",
    "x_dot_var = x_dot_std ** 2\n",
    "\n",
    "x_cov_x_dot = x_std * x_dot_std\n",
    "x_dot_cov_x = x_dot_std * x_std\n",
    "\n",
    "X = np.array([[x], [x_dot]])\n",
    "P = np.array([[x_var, x_cov_x_dot],\n",
    "              [x_dot_cov_x, x_dot_var]])"
   ]
  },
  {
   "cell_type": "code",
   "execution_count": 7,
   "metadata": {},
   "outputs": [
    {
     "name": "stdout",
     "output_type": "stream",
     "text": [
      "Kalman Filter State Matrix:\n",
      " [[5127.05898493]\n",
      " [ 288.55147059]]\n"
     ]
    }
   ],
   "source": [
    "x_observations = np.array([4000, 4260, 4550, 4860, 5110])\n",
    "v_observations = np.array([280, 282, 285, 286, 290])\n",
    "\n",
    "z = np.c_[x_observations, v_observations]\n",
    "\n",
    "# Initial Conditions\n",
    "a = 2  # Acceleration\n",
    "v = 280\n",
    "t = 1  # Difference in time\n",
    "\n",
    "# Process / Estimation Errors\n",
    "error_est_x = 20\n",
    "error_est_v = 5\n",
    "\n",
    "# Observation Errors\n",
    "error_obs_x = 25  # Uncertainty in the measurement\n",
    "error_obs_v = 6\n",
    "\n",
    "def prediction2d(x, v, t, a):\n",
    "    A = np.array([[1, t],\n",
    "                  [0, 1]])\n",
    "    X = np.array([[x],\n",
    "                  [v]])\n",
    "    B = np.array([[0.5 * t ** 2],\n",
    "                  [t]])\n",
    "    X_prime = A.dot(X) + B.dot(a)\n",
    "    return X_prime\n",
    "\n",
    "\n",
    "def covariance2d(sigma1, sigma2):\n",
    "    cov1_2 = sigma1 * sigma2\n",
    "    cov2_1 = sigma2 * sigma1\n",
    "    cov_matrix = np.array([[sigma1 ** 2, cov1_2],\n",
    "                           [cov2_1, sigma2 ** 2]])\n",
    "    return np.diag(np.diag(cov_matrix))\n",
    "\n",
    "\n",
    "# Initial Estimation Covariance Matrix\n",
    "P = covariance2d(error_est_x, error_est_v)\n",
    "A = np.array([[1, t],\n",
    "              [0, 1]])\n",
    "\n",
    "# Initial State Matrix\n",
    "X = np.array([[z[0][0]],\n",
    "              [v]])\n",
    "n = len(z[0])\n",
    "\n",
    "for data in z[1:]:\n",
    "    X = prediction2d(X[0][0], X[1][0], t, a)\n",
    "    # To simplify the problem, professor\n",
    "    # set off-diagonal terms to 0.\n",
    "    P = np.diag(np.diag(A.dot(P).dot(A.T)))\n",
    "\n",
    "    # Calculating the Kalman Gain\n",
    "    H = np.identity(n)\n",
    "    R = covariance2d(error_obs_x, error_obs_v)\n",
    "    S = H.dot(P).dot(H.T) + R\n",
    "    K = P.dot(H).dot(inv(S))\n",
    "\n",
    "    # Reshape the new data into the measurement space.\n",
    "    Y = H.dot(data).reshape(n, -1)\n",
    "\n",
    "    # Update the State Matrix\n",
    "    # Combination of the predicted state, measured values, covariance matrix and Kalman Gain\n",
    "    X = X + K.dot(Y - H.dot(X))\n",
    "\n",
    "    # Update Process Covariance Matrix\n",
    "    P = (np.identity(len(K)) - K.dot(H)).dot(P)\n",
    "\n",
    "print(\"Kalman Filter State Matrix:\\n\", X)"
   ]
  },
  {
   "cell_type": "code",
   "execution_count": null,
   "metadata": {},
   "outputs": [],
   "source": []
  },
  {
   "cell_type": "code",
   "execution_count": null,
   "metadata": {},
   "outputs": [],
   "source": []
  },
  {
   "cell_type": "code",
   "execution_count": null,
   "metadata": {},
   "outputs": [],
   "source": []
  },
  {
   "cell_type": "code",
   "execution_count": 23,
   "metadata": {},
   "outputs": [],
   "source": [
    "# initializing the following variables so that the code will compile\n",
    "\n",
    "angular_velocity = 1 # angular velocity from the gyroscope\n",
    "rotation_angle = 1 # rotation angle (\"calculated by the accelerometer signal\")"
   ]
  },
  {
   "cell_type": "code",
   "execution_count": null,
   "metadata": {},
   "outputs": [],
   "source": [
    "delta_time = 0.1"
   ]
  },
  {
   "cell_type": "code",
   "execution_count": 24,
   "metadata": {},
   "outputs": [
    {
     "name": "stdout",
     "output_type": "stream",
     "text": [
      "[[1]\n",
      " [1]]\n"
     ]
    }
   ],
   "source": [
    "x = np.array([[angular_velocity], [rotation_angle]])"
   ]
  },
  {
   "cell_type": "code",
   "execution_count": 26,
   "metadata": {},
   "outputs": [
    {
     "name": "stdout",
     "output_type": "stream",
     "text": [
      "[[ 1.  -0.1]\n",
      " [ 0.   1. ]]\n"
     ]
    }
   ],
   "source": [
    "A = np.array([[1, -delta_time], [0, 1]])"
   ]
  },
  {
   "cell_type": "code",
   "execution_count": 28,
   "metadata": {},
   "outputs": [],
   "source": [
    "H = np.array([1, 0])"
   ]
  },
  {
   "cell_type": "code",
   "execution_count": 30,
   "metadata": {},
   "outputs": [],
   "source": [
    "P_0 = 0\n",
    "x_hat_0 = 0"
   ]
  },
  {
   "cell_type": "code",
   "execution_count": null,
   "metadata": {},
   "outputs": [],
   "source": [
    "x_hat_bar_k = "
   ]
  }
 ],
 "metadata": {
  "kernelspec": {
   "display_name": "Python 3",
   "language": "python",
   "name": "python3"
  },
  "language_info": {
   "codemirror_mode": {
    "name": "ipython",
    "version": 3
   },
   "file_extension": ".py",
   "mimetype": "text/x-python",
   "name": "python",
   "nbconvert_exporter": "python",
   "pygments_lexer": "ipython3",
   "version": "3.7.6"
  }
 },
 "nbformat": 4,
 "nbformat_minor": 2
}
